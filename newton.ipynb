{
 "cells": [
  {
   "cell_type": "markdown",
   "id": "942db9f0",
   "metadata": {},
   "source": [
    "Resolver o seguinte sistema usando método de newton\n",
    "\n",
    "$$\\begin{aligned}\n",
    "    x^3 - 3xy^2 -1 =0 \\\\\n",
    "    y^3-3x^2y =0\n",
    "    \\end{aligned}$$"
   ]
  },
  {
   "cell_type": "code",
   "execution_count": 91,
   "id": "f75eaa4c",
   "metadata": {},
   "outputs": [],
   "source": [
    "import numpy as np\n",
    "import jax\n",
    "import jax.numpy as jnp"
   ]
  },
  {
   "cell_type": "code",
   "execution_count": null,
   "id": "779e0671",
   "metadata": {},
   "outputs": [
    {
     "ename": "LinAlgError",
     "evalue": "Last 2 dimensions of the array must be square",
     "output_type": "error",
     "traceback": [
      "\u001b[31m---------------------------------------------------------------------------\u001b[39m",
      "\u001b[31mLinAlgError\u001b[39m                               Traceback (most recent call last)",
      "\u001b[36mCell\u001b[39m\u001b[36m \u001b[39m\u001b[32mIn[92]\u001b[39m\u001b[32m, line 11\u001b[39m\n\u001b[32m      9\u001b[39m jacobian = jax.jacobian(F)\n\u001b[32m     10\u001b[39m F_valued = F(x_trial)\n\u001b[32m---> \u001b[39m\u001b[32m11\u001b[39m dx = \u001b[43mnp\u001b[49m\u001b[43m.\u001b[49m\u001b[43mlinalg\u001b[49m\u001b[43m.\u001b[49m\u001b[43msolve\u001b[49m\u001b[43m(\u001b[49m\u001b[43mjacobian\u001b[49m\u001b[43m(\u001b[49m\u001b[43mx_trial\u001b[49m\u001b[43m)\u001b[49m\u001b[43m,\u001b[49m\u001b[43m-\u001b[49m\u001b[43mF_valued\u001b[49m\u001b[43m)\u001b[49m\n\u001b[32m     12\u001b[39m x_trial += dx\n\u001b[32m     13\u001b[39m \u001b[38;5;28;01mif\u001b[39;00m np.max(np.abs(dx)) <= tol:\n",
      "\u001b[36mFile \u001b[39m\u001b[32m~/miniconda3/envs/estudo_edo/lib/python3.12/site-packages/numpy/linalg/linalg.py:396\u001b[39m, in \u001b[36msolve\u001b[39m\u001b[34m(a, b)\u001b[39m\n\u001b[32m    394\u001b[39m a, _ = _makearray(a)\n\u001b[32m    395\u001b[39m _assert_stacked_2d(a)\n\u001b[32m--> \u001b[39m\u001b[32m396\u001b[39m \u001b[43m_assert_stacked_square\u001b[49m\u001b[43m(\u001b[49m\u001b[43ma\u001b[49m\u001b[43m)\u001b[49m\n\u001b[32m    397\u001b[39m b, wrap = _makearray(b)\n\u001b[32m    398\u001b[39m t, result_t = _commonType(a, b)\n",
      "\u001b[36mFile \u001b[39m\u001b[32m~/miniconda3/envs/estudo_edo/lib/python3.12/site-packages/numpy/linalg/linalg.py:213\u001b[39m, in \u001b[36m_assert_stacked_square\u001b[39m\u001b[34m(*arrays)\u001b[39m\n\u001b[32m    211\u001b[39m m, n = a.shape[-\u001b[32m2\u001b[39m:]\n\u001b[32m    212\u001b[39m \u001b[38;5;28;01mif\u001b[39;00m m != n:\n\u001b[32m--> \u001b[39m\u001b[32m213\u001b[39m     \u001b[38;5;28;01mraise\u001b[39;00m LinAlgError(\u001b[33m'\u001b[39m\u001b[33mLast 2 dimensions of the array must be square\u001b[39m\u001b[33m'\u001b[39m)\n",
      "\u001b[31mLinAlgError\u001b[39m: Last 2 dimensions of the array must be square"
     ]
    }
   ],
   "source": [
    "F = lambda x: jnp.array([x[0]**3 -3*x[0]*x[1]**2 -1,x[1]**3 -x[0]**2*x[1]])\n",
    "tol = 1e-3\n",
    "\n",
    "x_trial = np.array([[12],[1.1]],dtype=float)\n",
    "\n",
    "while True:\n",
    "    # jacobian = np.array([[3*x_trial[0,0]**2 - 3*x_trial[1,0]**2,-6*x_trial[0,0]*x_trial[1,0]],\n",
    "    #                       [-6*x_trial[0,0]*x_trial[1,0],3*x_trial[1,0]**2-3*x_trial[0,0]**2]])\n",
    "    jacobian = jax.jacobian(F)\n",
    "    F_valued = F(x_trial)\n",
    "    dx = np.linalg.solve(jacobian(x_trial.flatten()),-F_valued)\n",
    "    x_trial += dx\n",
    "    if np.max(np.abs(dx)) <= tol:\n",
    "        break"
   ]
  },
  {
   "cell_type": "code",
   "execution_count": 94,
   "id": "7ef761b4",
   "metadata": {},
   "outputs": [
    {
     "data": {
      "text/plain": [
       "Array([[[[ 428.37    ],\n",
       "         [ -79.200005]]],\n",
       "\n",
       "\n",
       "       [[[ -26.400002],\n",
       "         [-140.37    ]]]], dtype=float32)"
      ]
     },
     "execution_count": 94,
     "metadata": {},
     "output_type": "execute_result"
    }
   ],
   "source": [
    "jacobian(x_trial)"
   ]
  },
  {
   "cell_type": "code",
   "execution_count": null,
   "id": "acfd611c",
   "metadata": {},
   "outputs": [
    {
     "ename": "TracerArrayConversionError",
     "evalue": "The numpy.ndarray conversion method __array__() was called on traced array with shape float32[1].\nSee https://jax.readthedocs.io/en/latest/errors.html#jax.errors.TracerArrayConversionError",
     "output_type": "error",
     "traceback": [
      "\u001b[31m---------------------------------------------------------------------------\u001b[39m",
      "\u001b[31mTracerArrayConversionError\u001b[39m                Traceback (most recent call last)",
      "\u001b[36mCell\u001b[39m\u001b[36m \u001b[39m\u001b[32mIn[89]\u001b[39m\u001b[32m, line 1\u001b[39m\n\u001b[32m----> \u001b[39m\u001b[32m1\u001b[39m \u001b[43mjacobian\u001b[49m\u001b[43m(\u001b[49m\u001b[43mx_trial\u001b[49m\u001b[43m)\u001b[49m\n",
      "\u001b[36mFile \u001b[39m\u001b[32m~/miniconda3/envs/estudo_edo/lib/python3.12/site-packages/jax/_src/api.py:951\u001b[39m, in \u001b[36mjacrev.<locals>.jacfun\u001b[39m\u001b[34m(*args, **kwargs)\u001b[39m\n\u001b[32m    949\u001b[39m tree_map(partial(_check_input_dtype_jacrev, holomorphic, allow_int), dyn_args)\n\u001b[32m    950\u001b[39m \u001b[38;5;28;01mif\u001b[39;00m \u001b[38;5;129;01mnot\u001b[39;00m has_aux:\n\u001b[32m--> \u001b[39m\u001b[32m951\u001b[39m   y, pullback = \u001b[43m_vjp\u001b[49m\u001b[43m(\u001b[49m\u001b[43mf_partial\u001b[49m\u001b[43m,\u001b[49m\u001b[43m \u001b[49m\u001b[43m*\u001b[49m\u001b[43mdyn_args\u001b[49m\u001b[43m)\u001b[49m\n\u001b[32m    952\u001b[39m \u001b[38;5;28;01melse\u001b[39;00m:\n\u001b[32m    953\u001b[39m   y, pullback, aux = _vjp(f_partial, *dyn_args, has_aux=\u001b[38;5;28;01mTrue\u001b[39;00m)\n",
      "\u001b[36mFile \u001b[39m\u001b[32m~/miniconda3/envs/estudo_edo/lib/python3.12/site-packages/jax/_src/api.py:2238\u001b[39m, in \u001b[36m_vjp\u001b[39m\u001b[34m(fun, has_aux, reduce_axes, *primals)\u001b[39m\n\u001b[32m   2236\u001b[39m \u001b[38;5;28;01mif\u001b[39;00m \u001b[38;5;129;01mnot\u001b[39;00m has_aux:\n\u001b[32m   2237\u001b[39m   flat_fun, out_tree = flatten_fun_nokwargs(fun, in_tree)\n\u001b[32m-> \u001b[39m\u001b[32m2238\u001b[39m   out_primal, out_vjp = \u001b[43mad\u001b[49m\u001b[43m.\u001b[49m\u001b[43mvjp\u001b[49m\u001b[43m(\u001b[49m\n\u001b[32m   2239\u001b[39m \u001b[43m      \u001b[49m\u001b[43mflat_fun\u001b[49m\u001b[43m,\u001b[49m\u001b[43m \u001b[49m\u001b[43mprimals_flat\u001b[49m\u001b[43m,\u001b[49m\u001b[43m \u001b[49m\u001b[43mreduce_axes\u001b[49m\u001b[43m=\u001b[49m\u001b[43mreduce_axes\u001b[49m\u001b[43m)\u001b[49m\n\u001b[32m   2240\u001b[39m   out_tree = out_tree()\n\u001b[32m   2241\u001b[39m \u001b[38;5;28;01melse\u001b[39;00m:\n",
      "\u001b[36mFile \u001b[39m\u001b[32m~/miniconda3/envs/estudo_edo/lib/python3.12/site-packages/jax/_src/interpreters/ad.py:143\u001b[39m, in \u001b[36mvjp\u001b[39m\u001b[34m(traceable, primals, has_aux, reduce_axes)\u001b[39m\n\u001b[32m    141\u001b[39m \u001b[38;5;28;01mdef\u001b[39;00m\u001b[38;5;250m \u001b[39m\u001b[34mvjp\u001b[39m(traceable, primals, has_aux=\u001b[38;5;28;01mFalse\u001b[39;00m, reduce_axes=()):\n\u001b[32m    142\u001b[39m   \u001b[38;5;28;01mif\u001b[39;00m \u001b[38;5;129;01mnot\u001b[39;00m has_aux:\n\u001b[32m--> \u001b[39m\u001b[32m143\u001b[39m     out_primals, pvals, jaxpr, consts = \u001b[43mlinearize\u001b[49m\u001b[43m(\u001b[49m\u001b[43mtraceable\u001b[49m\u001b[43m,\u001b[49m\u001b[43m \u001b[49m\u001b[43m*\u001b[49m\u001b[43mprimals\u001b[49m\u001b[43m)\u001b[49m\n\u001b[32m    144\u001b[39m   \u001b[38;5;28;01melse\u001b[39;00m:\n\u001b[32m    145\u001b[39m     out_primals, pvals, jaxpr, consts, aux = linearize(traceable, *primals, has_aux=\u001b[38;5;28;01mTrue\u001b[39;00m)\n",
      "\u001b[36mFile \u001b[39m\u001b[32m~/miniconda3/envs/estudo_edo/lib/python3.12/site-packages/jax/_src/interpreters/ad.py:132\u001b[39m, in \u001b[36mlinearize\u001b[39m\u001b[34m(traceable, *primals, **kwargs)\u001b[39m\n\u001b[32m    130\u001b[39m _, in_tree = tree_flatten(((primals, primals), {}))\n\u001b[32m    131\u001b[39m jvpfun_flat, out_tree = flatten_fun(jvpfun, in_tree)\n\u001b[32m--> \u001b[39m\u001b[32m132\u001b[39m jaxpr, out_pvals, consts = \u001b[43mpe\u001b[49m\u001b[43m.\u001b[49m\u001b[43mtrace_to_jaxpr_nounits\u001b[49m\u001b[43m(\u001b[49m\u001b[43mjvpfun_flat\u001b[49m\u001b[43m,\u001b[49m\u001b[43m \u001b[49m\u001b[43min_pvals\u001b[49m\u001b[43m)\u001b[49m\n\u001b[32m    133\u001b[39m out_primals_pvals, out_tangents_pvals = tree_unflatten(out_tree(), out_pvals)\n\u001b[32m    134\u001b[39m \u001b[38;5;28;01massert\u001b[39;00m \u001b[38;5;28mall\u001b[39m(out_primal_pval.is_known() \u001b[38;5;28;01mfor\u001b[39;00m out_primal_pval \u001b[38;5;129;01min\u001b[39;00m out_primals_pvals)\n",
      "\u001b[36mFile \u001b[39m\u001b[32m~/miniconda3/envs/estudo_edo/lib/python3.12/site-packages/jax/_src/profiler.py:336\u001b[39m, in \u001b[36mannotate_function.<locals>.wrapper\u001b[39m\u001b[34m(*args, **kwargs)\u001b[39m\n\u001b[32m    333\u001b[39m \u001b[38;5;129m@wraps\u001b[39m(func)\n\u001b[32m    334\u001b[39m \u001b[38;5;28;01mdef\u001b[39;00m\u001b[38;5;250m \u001b[39m\u001b[34mwrapper\u001b[39m(*args, **kwargs):\n\u001b[32m    335\u001b[39m   \u001b[38;5;28;01mwith\u001b[39;00m TraceAnnotation(name, **decorator_kwargs):\n\u001b[32m--> \u001b[39m\u001b[32m336\u001b[39m     \u001b[38;5;28;01mreturn\u001b[39;00m \u001b[43mfunc\u001b[49m\u001b[43m(\u001b[49m\u001b[43m*\u001b[49m\u001b[43margs\u001b[49m\u001b[43m,\u001b[49m\u001b[43m \u001b[49m\u001b[43m*\u001b[49m\u001b[43m*\u001b[49m\u001b[43mkwargs\u001b[49m\u001b[43m)\u001b[49m\n\u001b[32m    337\u001b[39m   \u001b[38;5;28;01mreturn\u001b[39;00m wrapper\n",
      "\u001b[36mFile \u001b[39m\u001b[32m~/miniconda3/envs/estudo_edo/lib/python3.12/site-packages/jax/_src/interpreters/partial_eval.py:774\u001b[39m, in \u001b[36mtrace_to_jaxpr_nounits\u001b[39m\u001b[34m(fun, pvals, instantiate)\u001b[39m\n\u001b[32m    772\u001b[39m \u001b[38;5;28;01mwith\u001b[39;00m core.new_main(JaxprTrace, name_stack=current_name_stack) \u001b[38;5;28;01mas\u001b[39;00m main:\n\u001b[32m    773\u001b[39m   fun = trace_to_subjaxpr_nounits(fun, main, instantiate)\n\u001b[32m--> \u001b[39m\u001b[32m774\u001b[39m   jaxpr, (out_pvals, consts, env) = \u001b[43mfun\u001b[49m\u001b[43m.\u001b[49m\u001b[43mcall_wrapped\u001b[49m\u001b[43m(\u001b[49m\u001b[43mpvals\u001b[49m\u001b[43m)\u001b[49m\n\u001b[32m    775\u001b[39m   \u001b[38;5;28;01massert\u001b[39;00m \u001b[38;5;129;01mnot\u001b[39;00m env\n\u001b[32m    776\u001b[39m   \u001b[38;5;28;01mdel\u001b[39;00m main, fun, env\n",
      "\u001b[36mFile \u001b[39m\u001b[32m~/miniconda3/envs/estudo_edo/lib/python3.12/site-packages/jax/_src/linear_util.py:192\u001b[39m, in \u001b[36mWrappedFun.call_wrapped\u001b[39m\u001b[34m(self, *args, **kwargs)\u001b[39m\n\u001b[32m    189\u001b[39m gen = gen_static_args = out_store = \u001b[38;5;28;01mNone\u001b[39;00m\n\u001b[32m    191\u001b[39m \u001b[38;5;28;01mtry\u001b[39;00m:\n\u001b[32m--> \u001b[39m\u001b[32m192\u001b[39m   ans = \u001b[38;5;28;43mself\u001b[39;49m\u001b[43m.\u001b[49m\u001b[43mf\u001b[49m\u001b[43m(\u001b[49m\u001b[43m*\u001b[49m\u001b[43margs\u001b[49m\u001b[43m,\u001b[49m\u001b[43m \u001b[49m\u001b[43m*\u001b[49m\u001b[43m*\u001b[49m\u001b[38;5;28;43mdict\u001b[39;49m\u001b[43m(\u001b[49m\u001b[38;5;28;43mself\u001b[39;49m\u001b[43m.\u001b[49m\u001b[43mparams\u001b[49m\u001b[43m,\u001b[49m\u001b[43m \u001b[49m\u001b[43m*\u001b[49m\u001b[43m*\u001b[49m\u001b[43mkwargs\u001b[49m\u001b[43m)\u001b[49m\u001b[43m)\u001b[49m\n\u001b[32m    193\u001b[39m \u001b[38;5;28;01mexcept\u001b[39;00m:\n\u001b[32m    194\u001b[39m   \u001b[38;5;66;03m# Some transformations yield from inside context managers, so we have to\u001b[39;00m\n\u001b[32m    195\u001b[39m   \u001b[38;5;66;03m# interrupt them before reraising the exception. Otherwise they will only\u001b[39;00m\n\u001b[32m    196\u001b[39m   \u001b[38;5;66;03m# get garbage-collected at some later time, running their cleanup tasks\u001b[39;00m\n\u001b[32m    197\u001b[39m   \u001b[38;5;66;03m# only after this exception is handled, which can corrupt the global\u001b[39;00m\n\u001b[32m    198\u001b[39m   \u001b[38;5;66;03m# state.\u001b[39;00m\n\u001b[32m    199\u001b[39m   \u001b[38;5;28;01mwhile\u001b[39;00m stack:\n",
      "\u001b[36mCell\u001b[39m\u001b[36m \u001b[39m\u001b[32mIn[88]\u001b[39m\u001b[32m, line 1\u001b[39m, in \u001b[36m<lambda>\u001b[39m\u001b[34m(x)\u001b[39m\n\u001b[32m----> \u001b[39m\u001b[32m1\u001b[39m F = \u001b[38;5;28;01mlambda\u001b[39;00m x: \u001b[43mnp\u001b[49m\u001b[43m.\u001b[49m\u001b[43marray\u001b[49m\u001b[43m(\u001b[49m\u001b[43m[\u001b[49m\u001b[43mx\u001b[49m\u001b[43m[\u001b[49m\u001b[32;43m0\u001b[39;49m\u001b[43m]\u001b[49m\u001b[43m*\u001b[49m\u001b[43m*\u001b[49m\u001b[32;43m3\u001b[39;49m\u001b[43m \u001b[49m\u001b[43m-\u001b[49m\u001b[32;43m3\u001b[39;49m\u001b[43m*\u001b[49m\u001b[43mx\u001b[49m\u001b[43m[\u001b[49m\u001b[32;43m0\u001b[39;49m\u001b[43m]\u001b[49m\u001b[43m*\u001b[49m\u001b[43mx\u001b[49m\u001b[43m[\u001b[49m\u001b[32;43m1\u001b[39;49m\u001b[43m]\u001b[49m\u001b[43m*\u001b[49m\u001b[43m*\u001b[49m\u001b[32;43m2\u001b[39;49m\u001b[43m \u001b[49m\u001b[43m-\u001b[49m\u001b[32;43m1\u001b[39;49m\u001b[43m,\u001b[49m\u001b[43mx\u001b[49m\u001b[43m[\u001b[49m\u001b[32;43m1\u001b[39;49m\u001b[43m]\u001b[49m\u001b[43m*\u001b[49m\u001b[43m*\u001b[49m\u001b[32;43m3\u001b[39;49m\u001b[43m \u001b[49m\u001b[43m-\u001b[49m\u001b[43mx\u001b[49m\u001b[43m[\u001b[49m\u001b[32;43m0\u001b[39;49m\u001b[43m]\u001b[49m\u001b[43m*\u001b[49m\u001b[43m*\u001b[49m\u001b[32;43m2\u001b[39;49m\u001b[43m*\u001b[49m\u001b[43mx\u001b[49m\u001b[43m[\u001b[49m\u001b[32;43m1\u001b[39;49m\u001b[43m]\u001b[49m\u001b[43m]\u001b[49m\u001b[43m)\u001b[49m\n\u001b[32m      2\u001b[39m tol = \u001b[32m1e-3\u001b[39m\n\u001b[32m      4\u001b[39m x_trial = np.array([[\u001b[32m12\u001b[39m],[\u001b[32m1.1\u001b[39m]],dtype=\u001b[38;5;28mfloat\u001b[39m)\n",
      "\u001b[36mFile \u001b[39m\u001b[32m~/miniconda3/envs/estudo_edo/lib/python3.12/site-packages/jax/_src/core.py:688\u001b[39m, in \u001b[36mTracer.__array__\u001b[39m\u001b[34m(self, *args, **kw)\u001b[39m\n\u001b[32m    687\u001b[39m \u001b[38;5;28;01mdef\u001b[39;00m\u001b[38;5;250m \u001b[39m\u001b[34m__array__\u001b[39m(\u001b[38;5;28mself\u001b[39m, *args, **kw):\n\u001b[32m--> \u001b[39m\u001b[32m688\u001b[39m   \u001b[38;5;28;01mraise\u001b[39;00m TracerArrayConversionError(\u001b[38;5;28mself\u001b[39m)\n",
      "\u001b[31mTracerArrayConversionError\u001b[39m: The numpy.ndarray conversion method __array__() was called on traced array with shape float32[1].\nSee https://jax.readthedocs.io/en/latest/errors.html#jax.errors.TracerArrayConversionError"
     ]
    }
   ],
   "source": [
    "jacobian(x_trial)"
   ]
  }
 ],
 "metadata": {
  "kernelspec": {
   "display_name": "estudo_edo",
   "language": "python",
   "name": "python3"
  },
  "language_info": {
   "codemirror_mode": {
    "name": "ipython",
    "version": 3
   },
   "file_extension": ".py",
   "mimetype": "text/x-python",
   "name": "python",
   "nbconvert_exporter": "python",
   "pygments_lexer": "ipython3",
   "version": "3.12.9"
  }
 },
 "nbformat": 4,
 "nbformat_minor": 5
}
